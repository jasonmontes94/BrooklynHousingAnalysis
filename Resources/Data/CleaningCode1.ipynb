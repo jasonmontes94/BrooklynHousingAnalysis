{
 "cells": [
  {
   "cell_type": "code",
   "execution_count": 1,
   "id": "f3f29e2e",
   "metadata": {},
   "outputs": [],
   "source": [
    "#Created by Ryan on 12-28-22\n",
    "#Goal is to create a new set that removes all non-residential \n",
    "#Also remove any extra data.\n",
    "#New file will be saved as CleanedBRKData"
   ]
  },
  {
   "cell_type": "code",
   "execution_count": 2,
   "id": "72953a72",
   "metadata": {},
   "outputs": [],
   "source": [
    "import pandas as pd"
   ]
  },
  {
   "cell_type": "code",
   "execution_count": 4,
   "id": "db7ef3fb",
   "metadata": {},
   "outputs": [
    {
     "name": "stderr",
     "output_type": "stream",
     "text": [
      "C:\\Users\\Ryan Satterfield\\AppData\\Local\\Programs\\Python\\Python39\\lib\\site-packages\\IPython\\core\\interactiveshell.py:3398: DtypeWarning: Columns (34,35,69) have mixed types.Specify dtype option on import or set low_memory=False.\n",
      "  exec(code_obj, self.user_global_ns, self.user_ns)\n"
     ]
    }
   ],
   "source": [
    "df = pd.read_csv('C:/Users/Ryan Satterfield/Documents/GitHub/FinalProject/Resources/Data/brooklyn_sales.csv')"
   ]
  },
  {
   "cell_type": "code",
   "execution_count": 6,
   "id": "f60c9616",
   "metadata": {
    "scrolled": true
   },
   "outputs": [
    {
     "data": {
      "text/plain": [
       "02 TWO FAMILY HOMES                   41342\n",
       "01 ONE FAMILY HOMES                   23160\n",
       "13  CONDOS - ELEVATOR APARTMENTS      20840\n",
       "10  COOPS - ELEVATOR APARTMENTS       16404\n",
       "03 THREE FAMILY HOMES                 14181\n",
       "                                      ...  \n",
       "39  TRANSPORTATION FACILITIES             1\n",
       "23 LOFT BUILDINGS                         1\n",
       "11  SPECIAL CONDO BILLING LOTS            1\n",
       "39 TRANSPORTATION FACILITIES              1\n",
       "36 OUTDOOR RECREATIONAL FACILITIES        1\n",
       "Name: building_class_category, Length: 86, dtype: int64"
      ]
     },
     "execution_count": 6,
     "metadata": {},
     "output_type": "execute_result"
    }
   ],
   "source": [
    "#Determin what categories are not Residential \n",
    "c = 'building_class_category'\n",
    "df[c].value_counts()"
   ]
  },
  {
   "cell_type": "code",
   "execution_count": 9,
   "id": "408b2b78",
   "metadata": {
    "scrolled": true
   },
   "outputs": [
    {
     "data": {
      "text/plain": [
       "[nan,\n",
       " '45 CONDO HOTELS',\n",
       " '43 CONDO OFFICE BUILDINGS',\n",
       " '23 LOFT BUILDINGS',\n",
       " '28  COMMERCIAL CONDOS',\n",
       " '07 RENTALS - WALKUP APARTMENTS',\n",
       " '25  LUXURY HOTELS',\n",
       " '40  SELECTED GOVERNMENTAL FACILITIES',\n",
       " '27 FACTORIES',\n",
       " '32 HOSPITAL AND HEALTH FACILITIES',\n",
       " '04  TAX CLASS 1 CONDOS',\n",
       " '09  COOPS - WALKUP APARTMENTS',\n",
       " '17 CONDO COOPS',\n",
       " '15 CONDOS - 2-10 UNIT RESIDENTIAL',\n",
       " '22  STORE BUILDINGS',\n",
       " '32  HOSPITAL AND HEALTH FACILITIES',\n",
       " '06 TAX CLASS 1 - OTHER',\n",
       " '28 COMMERCIAL CONDOS',\n",
       " '33  EDUCATIONAL FACILITIES',\n",
       " '14 RENTALS - 4-10 UNIT',\n",
       " '02 TWO FAMILY HOMES',\n",
       " '42  CONDO CULTURAL/MEDICAL/EDUCATIONAL/ETC',\n",
       " '45  CONDO HOTELS',\n",
       " '13  CONDOS - ELEVATOR APARTMENTS',\n",
       " '41  TAX CLASS 4 - OTHER',\n",
       " '37  RELIGIOUS FACILITIES',\n",
       " '18  TAX CLASS 3 - UTILITY PROPERTIES',\n",
       " '48  CONDO TERRACES/GARDENS/CABANAS',\n",
       " '10  COOPS - ELEVATOR APARTMENTS',\n",
       " '44 CONDO PARKING',\n",
       " '36 OUTDOOR RECREATIONAL FACILITIES',\n",
       " '18  TAX CLASS 3 - UNTILITY PROPERTIES',\n",
       " '12  CONDOS - WALKUP APARTMENTS',\n",
       " '29 COMMERCIAL GARAGES',\n",
       " '35 INDOOR PUBLIC AND CULTURAL FACILITIES',\n",
       " '29  COMMERCIAL GARAGES',\n",
       " '33 EDUCATIONAL FACILITIES',\n",
       " '08 RENTALS - ELEVATOR APARTMENTS',\n",
       " '17  CONDOPS',\n",
       " '34 THEATRES',\n",
       " '46 CONDO STORE BUILDINGS',\n",
       " '10 COOPS - ELEVATOR APARTMENTS',\n",
       " '12 CONDOS - WALKUP APARTMENTS',\n",
       " '31  COMMERCIAL VACANT LAND',\n",
       " '27  FACTORIES',\n",
       " '35  INDOOR PUBLIC AND CULTURAL FACILITIES',\n",
       " '01 ONE FAMILY HOMES',\n",
       " '21 OFFICE BUILDINGS',\n",
       " '47  CONDO NON-BUSINESS STORAGE',\n",
       " '41 TAX CLASS 4 - OTHER',\n",
       " '38  ASYLUMS AND HOMES',\n",
       " '11A CONDO-RENTALS',\n",
       " '13 CONDOS - ELEVATOR APARTMENTS',\n",
       " '39  TRANSPORTATION FACILITIES',\n",
       " '39 TRANSPORTATION FACILITIES',\n",
       " '21  OFFICE BUILDINGS',\n",
       " '04 TAX CLASS 1 CONDOS',\n",
       " '30 WAREHOUSES',\n",
       " '23  LOFT BUILDINGS',\n",
       " '08  RENTALS - ELEVATOR APARTMENTS',\n",
       " '36  OUTDOOR RECREATIONAL FACILITIES',\n",
       " '37 RELIGIOUS FACILITIES',\n",
       " '38 ASYLUMS AND HOMES',\n",
       " '43  CONDO OFFICE BUILDINGS',\n",
       " '16  CONDOS - 2-10 UNIT WITH COMMERCIAL UNIT',\n",
       " '49  CONDO WAREHOUSES/FACTORY/INDUS',\n",
       " '15  CONDOS - 2-10 UNIT RESIDENTIAL',\n",
       " '26 OTHER HOTELS',\n",
       " '22 STORE BUILDINGS',\n",
       " '42 CONDO CULTURAL/MEDICAL/EDUCATIONAL/ETC',\n",
       " '31 COMMERCIAL VACANT LAND',\n",
       " '05 TAX CLASS 1 VACANT LAND',\n",
       " '16 CONDOS - 2-10 UNIT WITH COMMERCIAL UNIT',\n",
       " '11  SPECIAL CONDO BILLING LOTS',\n",
       " '14  RENTALS - 4-10 UNIT',\n",
       " '48 CONDO TERRACES/GARDENS/CABANAS',\n",
       " '05  TAX CLASS 1 VACANT LAND',\n",
       " '46  CONDO STORE BUILDINGS',\n",
       " '09 COOPS - WALKUP APARTMENTS',\n",
       " '34  THEATRES',\n",
       " '06  TAX CLASS 1 - OTHER',\n",
       " '26  OTHER HOTELS',\n",
       " '44  CONDO PARKING',\n",
       " '30  WAREHOUSES',\n",
       " '17  CONDO COOPS',\n",
       " '07  RENTALS - WALKUP APARTMENTS',\n",
       " '03 THREE FAMILY HOMES']"
      ]
     },
     "execution_count": 9,
     "metadata": {},
     "output_type": "execute_result"
    }
   ],
   "source": [
    " building_types = list(set(list(df[c])))\n",
    "#by converting the df column to list then a set then back to a list. i can easily isolate unique values"
   ]
  },
  {
   "cell_type": "code",
   "execution_count": 15,
   "id": "7375adc1",
   "metadata": {},
   "outputs": [],
   "source": [
    "Homes = [\n",
    "'01 ONE FAMILY HOMES',\n",
    "'02 TWO FAMILY HOMES',\n",
    "'03 THREE FAMILY HOMES',\n",
    "]\n",
    "Res = [\n",
    "    '23 LOFT BUILDINGS',\n",
    "    '07 RENTALS - WALKUP APARTMENTS',\n",
    "    '04 TAX CLASS 1 CONDOS',\n",
    "    '09 COOPS - WALKUP APARTMENTS',\n",
    "    '17 CONDO COOPS',\n",
    "    '15 CONDOS - 2-10 UNIT RESIDENTIAL',\n",
    "    '06 TAX CLASS 1 - OTHER',\n",
    "    '14 RENTALS - 4-10 UNIT',\n",
    "    '02 TWO FAMILY HOMES',\n",
    "    '13 CONDOS - ELEVATOR APARTMENTS',\n",
    "    '41 TAX CLASS 4 - OTHER',\n",
    "    '48 CONDO TERRACES/GARDENS/CABANAS',\n",
    "    '10 COOPS - ELEVATOR APARTMENTS',\n",
    "    '12 CONDOS - WALKUP APARTMENTS',\n",
    "    '08 RENTALS - ELEVATOR APARTMENTS',\n",
    "    '10 COOPS - ELEVATOR APARTMENTS',\n",
    "    '12 CONDOS - WALKUP APARTMENTS',\n",
    "    '01 ONE FAMILY HOMES',\n",
    "    '11A CONDO-RENTALS',\n",
    "    '13 CONDOS - ELEVATOR APARTMENTS',\n",
    "    '08 RENTALS - ELEVATOR APARTMENTS',\n",
    "    '14 RENTALS - 4-10 UNIT',\n",
    "    '48 CONDO TERRACES/GARDENS/CABANAS',\n",
    "    '09 COOPS - WALKUP APARTMENTS',\n",
    "    '17 CONDO COOPS',\n",
    "    '07 RENTALS - WALKUP APARTMENTS',\n",
    "    '03 THREE FAMILY HOMES'\n",
    "]\n",
    "nonRes = [\n",
    "    '45 CONDO HOTELS',\n",
    "    '43 CONDO OFFICE BUILDINGS',\n",
    "    '28  COMMERCIAL CONDOS',\n",
    "    'nan',\n",
    "    '25  LUXURY HOTELS',\n",
    "    '40  SELECTED GOVERNMENTAL FACILITIES',\n",
    "    '27 FACTORIES',\n",
    "    '32 HOSPITAL AND HEALTH FACILITIES',\n",
    "    '22  STORE BUILDINGS',\n",
    "    '32  HOSPITAL AND HEALTH FACILITIES',\n",
    "    '28 COMMERCIAL CONDOS',\n",
    "    '33  EDUCATIONAL FACILITIES',\n",
    "    '42  CONDO CULTURAL/MEDICAL/EDUCATIONAL/ETC',\n",
    "    '45  CONDO HOTELS',\n",
    "    '37  RELIGIOUS FACILITIES'\n",
    "    '18  TAX CLASS 3 - UTILITY PROPERTIES',\n",
    "    '44 CONDO PARKING',\n",
    "    '36 OUTDOOR RECREATIONAL FACILITIES',\n",
    "    '18  TAX CLASS 3 - UNTILITY PROPERTIES',\n",
    "    '29 COMMERCIAL GARAGES',\n",
    "    '35 INDOOR PUBLIC AND CULTURAL FACILITIES',\n",
    "    '29  COMMERCIAL GARAGES',\n",
    "    '33 EDUCATIONAL FACILITIES',\n",
    "    '17  CONDOPS',\n",
    "    '34 THEATRES',\n",
    "    '46 CONDO STORE BUILDINGS',\n",
    "    '31  COMMERCIAL VACANT LAND',\n",
    "    '27  FACTORIES',\n",
    "    '35  INDOOR PUBLIC AND CULTURAL FACILITIES',\n",
    "    '21 OFFICE BUILDINGS',\n",
    "    '47  CONDO NON-BUSINESS STORAGE',\n",
    "    '41 TAX CLASS 4 - OTHER',\n",
    "    '38  ASYLUMS AND HOMES',\n",
    "    '39  TRANSPORTATION FACILITIES',\n",
    "    '39 TRANSPORTATION FACILITIES',\n",
    "    '21  OFFICE BUILDINGS',\n",
    "    '21  OFFICE BUILDINGS',\n",
    "    '36  OUTDOOR RECREATIONAL FACILITIES',\n",
    "    '37 RELIGIOUS FACILITIES',\n",
    "    '38 ASYLUMS AND HOMES',\n",
    "    '43  CONDO OFFICE BUILDINGS',\n",
    "    '16  CONDOS - 2-10 UNIT WITH COMMERCIAL UNIT',\n",
    "    '49  CONDO WAREHOUSES/FACTORY/INDUS',\n",
    "    '15  CONDOS - 2-10 UNIT RESIDENTIAL',\n",
    "    '26 OTHER HOTELS',\n",
    "    '22 STORE BUILDINGS',\n",
    "    '42 CONDO CULTURAL/MEDICAL/EDUCATIONAL/ETC',\n",
    "    '31 COMMERCIAL VACANT LAND',\n",
    "    '05 TAX CLASS 1 VACANT LAND',\n",
    "    '16 CONDOS - 2-10 UNIT WITH COMMERCIAL UNIT',\n",
    "    '11  SPECIAL CONDO BILLING LOTS',\n",
    "    '05  TAX CLASS 1 VACANT LAND',\n",
    "    '46  CONDO STORE BUILDINGS',\n",
    "    '34  THEATRES',\n",
    "    '06  TAX CLASS 1 - OTHER',\n",
    "    '26  OTHER HOTELS',\n",
    "    '44  CONDO PARKING',\n",
    "    '30  WAREHOUSES'\n",
    "]"
   ]
  },
  {
   "cell_type": "code",
   "execution_count": 13,
   "id": "03dd89be",
   "metadata": {},
   "outputs": [],
   "source": [
    "dfRes =  df[df[c].isin(Res)]"
   ]
  },
  {
   "cell_type": "code",
   "execution_count": 14,
   "id": "f688bb75",
   "metadata": {},
   "outputs": [
    {
     "data": {
      "text/plain": [
       "02 TWO FAMILY HOMES                  41342\n",
       "01 ONE FAMILY HOMES                  23160\n",
       "03 THREE FAMILY HOMES                14181\n",
       "13 CONDOS - ELEVATOR APARTMENTS       2482\n",
       "10 COOPS - ELEVATOR APARTMENTS        1806\n",
       "15 CONDOS - 2-10 UNIT RESIDENTIAL      796\n",
       "07 RENTALS - WALKUP APARTMENTS         707\n",
       "09 COOPS - WALKUP APARTMENTS           498\n",
       "04 TAX CLASS 1 CONDOS                  420\n",
       "12 CONDOS - WALKUP APARTMENTS          334\n",
       "14 RENTALS - 4-10 UNIT                 185\n",
       "08 RENTALS - ELEVATOR APARTMENTS        44\n",
       "41 TAX CLASS 4 - OTHER                  30\n",
       "17 CONDO COOPS                          24\n",
       "11A CONDO-RENTALS                       17\n",
       "06 TAX CLASS 1 - OTHER                  13\n",
       "48 CONDO TERRACES/GARDENS/CABANAS        2\n",
       "23 LOFT BUILDINGS                        1\n",
       "Name: building_class_category, dtype: int64"
      ]
     },
     "execution_count": 14,
     "metadata": {},
     "output_type": "execute_result"
    }
   ],
   "source": [
    "dfRes[c].value_counts()"
   ]
  },
  {
   "cell_type": "code",
   "execution_count": 19,
   "id": "26ca808b",
   "metadata": {},
   "outputs": [],
   "source": [
    "#At this point its clear that removing everything except the one, two , three family homes won't have a large effect on our data \n",
    "dfhome = df[df[c].isin(Homes)]\n",
    "dfhome = dfhome.reset_index(drop=True)\n"
   ]
  },
  {
   "cell_type": "code",
   "execution_count": 17,
   "id": "a2931de0",
   "metadata": {},
   "outputs": [
    {
     "data": {
      "text/plain": [
       "02 TWO FAMILY HOMES      41342\n",
       "01 ONE FAMILY HOMES      23160\n",
       "03 THREE FAMILY HOMES    14181\n",
       "Name: building_class_category, dtype: int64"
      ]
     },
     "execution_count": 17,
     "metadata": {},
     "output_type": "execute_result"
    }
   ],
   "source": [
    "dfhome[c].value_counts()"
   ]
  },
  {
   "cell_type": "code",
   "execution_count": 22,
   "id": "9c236014",
   "metadata": {},
   "outputs": [],
   "source": [
    "list(dfhome)  #let's get a list of the columns\n",
    "salep = 'sale_price'"
   ]
  },
  {
   "cell_type": "code",
   "execution_count": 26,
   "id": "058448d5",
   "metadata": {},
   "outputs": [
    {
     "data": {
      "text/plain": [
       "count    7.868300e+04\n",
       "mean     7.242098e+05\n",
       "std      6.329105e+05\n",
       "min      1.450000e+05\n",
       "25%      3.999970e+05\n",
       "50%      5.800000e+05\n",
       "75%      8.350000e+05\n",
       "max      2.300000e+07\n",
       "Name: sale_price, dtype: float64"
      ]
     },
     "execution_count": 26,
     "metadata": {},
     "output_type": "execute_result"
    }
   ],
   "source": [
    "dfhome[salep].describe() # Basic look at Res sale prices"
   ]
  },
  {
   "cell_type": "code",
   "execution_count": 27,
   "id": "138e703d",
   "metadata": {},
   "outputs": [
    {
     "data": {
      "text/plain": [
       "23000000.0"
      ]
     },
     "execution_count": 27,
     "metadata": {},
     "output_type": "execute_result"
    }
   ],
   "source": [
    "dfhome[salep].max()"
   ]
  },
  {
   "cell_type": "code",
   "execution_count": 28,
   "id": "51d62013",
   "metadata": {},
   "outputs": [
    {
     "data": {
      "text/html": [
       "<div>\n",
       "<style scoped>\n",
       "    .dataframe tbody tr th:only-of-type {\n",
       "        vertical-align: middle;\n",
       "    }\n",
       "\n",
       "    .dataframe tbody tr th {\n",
       "        vertical-align: top;\n",
       "    }\n",
       "\n",
       "    .dataframe thead th {\n",
       "        text-align: right;\n",
       "    }\n",
       "</style>\n",
       "<table border=\"1\" class=\"dataframe\">\n",
       "  <thead>\n",
       "    <tr style=\"text-align: right;\">\n",
       "      <th></th>\n",
       "      <th>Unnamed: 0</th>\n",
       "      <th>borough</th>\n",
       "      <th>neighborhood</th>\n",
       "      <th>building_class_category</th>\n",
       "      <th>block</th>\n",
       "      <th>lot</th>\n",
       "      <th>building_class</th>\n",
       "      <th>address</th>\n",
       "      <th>apartment_number</th>\n",
       "      <th>zip_code</th>\n",
       "      <th>...</th>\n",
       "      <th>BldgFront</th>\n",
       "      <th>BldgDepth</th>\n",
       "      <th>Ext</th>\n",
       "      <th>AssessLand</th>\n",
       "      <th>AssessTot</th>\n",
       "      <th>ExemptLand</th>\n",
       "      <th>ExemptTot</th>\n",
       "      <th>YearBuilt</th>\n",
       "      <th>HistDist</th>\n",
       "      <th>Landmark</th>\n",
       "    </tr>\n",
       "  </thead>\n",
       "  <tbody>\n",
       "    <tr>\n",
       "      <th>0</th>\n",
       "      <td>316</td>\n",
       "      <td>3</td>\n",
       "      <td>BOERUM HILL</td>\n",
       "      <td>02 TWO FAMILY HOMES</td>\n",
       "      <td>180</td>\n",
       "      <td>60</td>\n",
       "      <td>S2</td>\n",
       "      <td>525 ATLANTIC AVENUE</td>\n",
       "      <td>NaN</td>\n",
       "      <td>11217</td>\n",
       "      <td>...</td>\n",
       "      <td>25.0</td>\n",
       "      <td>79.0</td>\n",
       "      <td>NaN</td>\n",
       "      <td>5685.0</td>\n",
       "      <td>35970.0</td>\n",
       "      <td>0.0</td>\n",
       "      <td>0.0</td>\n",
       "      <td>1905.0</td>\n",
       "      <td>NaN</td>\n",
       "      <td>NaN</td>\n",
       "    </tr>\n",
       "  </tbody>\n",
       "</table>\n",
       "<p>1 rows × 70 columns</p>\n",
       "</div>"
      ],
      "text/plain": [
       "   Unnamed: 0  borough neighborhood building_class_category  block  lot  \\\n",
       "0         316        3  BOERUM HILL     02 TWO FAMILY HOMES    180   60   \n",
       "\n",
       "  building_class              address apartment_number  zip_code  ...  \\\n",
       "0             S2  525 ATLANTIC AVENUE              NaN     11217  ...   \n",
       "\n",
       "   BldgFront  BldgDepth  Ext  AssessLand  AssessTot  ExemptLand  ExemptTot  \\\n",
       "0       25.0       79.0  NaN      5685.0    35970.0         0.0        0.0   \n",
       "\n",
       "  YearBuilt  HistDist Landmark  \n",
       "0    1905.0       NaN      NaN  \n",
       "\n",
       "[1 rows x 70 columns]"
      ]
     },
     "execution_count": 28,
     "metadata": {},
     "output_type": "execute_result"
    }
   ],
   "source": [
    "dfhome[dfhome[salep] > 22_000_000.0] #closer look at the max."
   ]
  },
  {
   "cell_type": "code",
   "execution_count": null,
   "id": "f87119d5",
   "metadata": {},
   "outputs": [],
   "source": [
    "#Will now export the new data frame and make a new code file to do some basic analysis.\n",
    "dfhome.to_csv('BasicHomes.csv')"
   ]
  }
 ],
 "metadata": {
  "kernelspec": {
   "display_name": "Python 3 (ipykernel)",
   "language": "python",
   "name": "python3"
  },
  "language_info": {
   "codemirror_mode": {
    "name": "ipython",
    "version": 3
   },
   "file_extension": ".py",
   "mimetype": "text/x-python",
   "name": "python",
   "nbconvert_exporter": "python",
   "pygments_lexer": "ipython3",
   "version": "3.9.12"
  }
 },
 "nbformat": 4,
 "nbformat_minor": 5
}
